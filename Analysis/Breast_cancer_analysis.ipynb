{
 "cells": [
  {
   "cell_type": "code",
   "execution_count": 1,
   "id": "38699533",
   "metadata": {},
   "outputs": [],
   "source": [
    "# we import allrequired libraries\n",
    "\n",
    "import pandas as pd\n",
    "import numpy as np\n",
    "import matplotlib.pyplot as plt"
   ]
  },
  {
   "cell_type": "code",
   "execution_count": 2,
   "id": "cc884911",
   "metadata": {},
   "outputs": [],
   "source": [
    "df = pd.read_csv('../Resources/BRCA.csv')"
   ]
  },
  {
   "cell_type": "code",
   "execution_count": 3,
   "id": "a3924223",
   "metadata": {},
   "outputs": [
    {
     "data": {
      "text/html": [
       "<div>\n",
       "<style scoped>\n",
       "    .dataframe tbody tr th:only-of-type {\n",
       "        vertical-align: middle;\n",
       "    }\n",
       "\n",
       "    .dataframe tbody tr th {\n",
       "        vertical-align: top;\n",
       "    }\n",
       "\n",
       "    .dataframe thead th {\n",
       "        text-align: right;\n",
       "    }\n",
       "</style>\n",
       "<table border=\"1\" class=\"dataframe\">\n",
       "  <thead>\n",
       "    <tr style=\"text-align: right;\">\n",
       "      <th></th>\n",
       "      <th>Patient_ID</th>\n",
       "      <th>Age</th>\n",
       "      <th>Gender</th>\n",
       "      <th>Protein1</th>\n",
       "      <th>Protein2</th>\n",
       "      <th>Protein3</th>\n",
       "      <th>Protein4</th>\n",
       "      <th>Tumour_Stage</th>\n",
       "      <th>Histology</th>\n",
       "      <th>ER status</th>\n",
       "      <th>PR status</th>\n",
       "      <th>HER2 status</th>\n",
       "      <th>Surgery_type</th>\n",
       "      <th>Date_of_Surgery</th>\n",
       "      <th>Date_of_Last_Visit</th>\n",
       "      <th>Patient_Status</th>\n",
       "    </tr>\n",
       "  </thead>\n",
       "  <tbody>\n",
       "    <tr>\n",
       "      <th>0</th>\n",
       "      <td>TCGA-D8-A1XD</td>\n",
       "      <td>36.0</td>\n",
       "      <td>FEMALE</td>\n",
       "      <td>0.080353</td>\n",
       "      <td>0.42638</td>\n",
       "      <td>0.54715</td>\n",
       "      <td>0.273680</td>\n",
       "      <td>III</td>\n",
       "      <td>Infiltrating Ductal Carcinoma</td>\n",
       "      <td>Positive</td>\n",
       "      <td>Positive</td>\n",
       "      <td>Negative</td>\n",
       "      <td>Modified Radical Mastectomy</td>\n",
       "      <td>15-Jan-17</td>\n",
       "      <td>19-Jun-17</td>\n",
       "      <td>Alive</td>\n",
       "    </tr>\n",
       "    <tr>\n",
       "      <th>1</th>\n",
       "      <td>TCGA-EW-A1OX</td>\n",
       "      <td>43.0</td>\n",
       "      <td>FEMALE</td>\n",
       "      <td>-0.420320</td>\n",
       "      <td>0.57807</td>\n",
       "      <td>0.61447</td>\n",
       "      <td>-0.031505</td>\n",
       "      <td>II</td>\n",
       "      <td>Mucinous Carcinoma</td>\n",
       "      <td>Positive</td>\n",
       "      <td>Positive</td>\n",
       "      <td>Negative</td>\n",
       "      <td>Lumpectomy</td>\n",
       "      <td>26-Apr-17</td>\n",
       "      <td>09-Nov-18</td>\n",
       "      <td>Dead</td>\n",
       "    </tr>\n",
       "    <tr>\n",
       "      <th>2</th>\n",
       "      <td>TCGA-A8-A079</td>\n",
       "      <td>69.0</td>\n",
       "      <td>FEMALE</td>\n",
       "      <td>0.213980</td>\n",
       "      <td>1.31140</td>\n",
       "      <td>-0.32747</td>\n",
       "      <td>-0.234260</td>\n",
       "      <td>III</td>\n",
       "      <td>Infiltrating Ductal Carcinoma</td>\n",
       "      <td>Positive</td>\n",
       "      <td>Positive</td>\n",
       "      <td>Negative</td>\n",
       "      <td>Other</td>\n",
       "      <td>08-Sep-17</td>\n",
       "      <td>09-Jun-18</td>\n",
       "      <td>Alive</td>\n",
       "    </tr>\n",
       "    <tr>\n",
       "      <th>3</th>\n",
       "      <td>TCGA-D8-A1XR</td>\n",
       "      <td>56.0</td>\n",
       "      <td>FEMALE</td>\n",
       "      <td>0.345090</td>\n",
       "      <td>-0.21147</td>\n",
       "      <td>-0.19304</td>\n",
       "      <td>0.124270</td>\n",
       "      <td>II</td>\n",
       "      <td>Infiltrating Ductal Carcinoma</td>\n",
       "      <td>Positive</td>\n",
       "      <td>Positive</td>\n",
       "      <td>Negative</td>\n",
       "      <td>Modified Radical Mastectomy</td>\n",
       "      <td>25-Jan-17</td>\n",
       "      <td>12-Jul-17</td>\n",
       "      <td>Alive</td>\n",
       "    </tr>\n",
       "    <tr>\n",
       "      <th>4</th>\n",
       "      <td>TCGA-BH-A0BF</td>\n",
       "      <td>56.0</td>\n",
       "      <td>FEMALE</td>\n",
       "      <td>0.221550</td>\n",
       "      <td>1.90680</td>\n",
       "      <td>0.52045</td>\n",
       "      <td>-0.311990</td>\n",
       "      <td>II</td>\n",
       "      <td>Infiltrating Ductal Carcinoma</td>\n",
       "      <td>Positive</td>\n",
       "      <td>Positive</td>\n",
       "      <td>Negative</td>\n",
       "      <td>Other</td>\n",
       "      <td>06-May-17</td>\n",
       "      <td>27-Jun-19</td>\n",
       "      <td>Dead</td>\n",
       "    </tr>\n",
       "  </tbody>\n",
       "</table>\n",
       "</div>"
      ],
      "text/plain": [
       "     Patient_ID   Age  Gender  Protein1  Protein2  Protein3  Protein4  \\\n",
       "0  TCGA-D8-A1XD  36.0  FEMALE  0.080353   0.42638   0.54715  0.273680   \n",
       "1  TCGA-EW-A1OX  43.0  FEMALE -0.420320   0.57807   0.61447 -0.031505   \n",
       "2  TCGA-A8-A079  69.0  FEMALE  0.213980   1.31140  -0.32747 -0.234260   \n",
       "3  TCGA-D8-A1XR  56.0  FEMALE  0.345090  -0.21147  -0.19304  0.124270   \n",
       "4  TCGA-BH-A0BF  56.0  FEMALE  0.221550   1.90680   0.52045 -0.311990   \n",
       "\n",
       "  Tumour_Stage                      Histology ER status PR status HER2 status  \\\n",
       "0          III  Infiltrating Ductal Carcinoma  Positive  Positive    Negative   \n",
       "1           II             Mucinous Carcinoma  Positive  Positive    Negative   \n",
       "2          III  Infiltrating Ductal Carcinoma  Positive  Positive    Negative   \n",
       "3           II  Infiltrating Ductal Carcinoma  Positive  Positive    Negative   \n",
       "4           II  Infiltrating Ductal Carcinoma  Positive  Positive    Negative   \n",
       "\n",
       "                  Surgery_type Date_of_Surgery Date_of_Last_Visit  \\\n",
       "0  Modified Radical Mastectomy       15-Jan-17          19-Jun-17   \n",
       "1                   Lumpectomy       26-Apr-17          09-Nov-18   \n",
       "2                        Other       08-Sep-17          09-Jun-18   \n",
       "3  Modified Radical Mastectomy       25-Jan-17          12-Jul-17   \n",
       "4                        Other       06-May-17          27-Jun-19   \n",
       "\n",
       "  Patient_Status  \n",
       "0          Alive  \n",
       "1           Dead  \n",
       "2          Alive  \n",
       "3          Alive  \n",
       "4           Dead  "
      ]
     },
     "execution_count": 3,
     "metadata": {},
     "output_type": "execute_result"
    }
   ],
   "source": [
    "df.head()"
   ]
  },
  {
   "cell_type": "code",
   "execution_count": 4,
   "id": "43d5b0c5",
   "metadata": {},
   "outputs": [],
   "source": [
    "df.dropna(inplace = True)\n"
   ]
  },
  {
   "cell_type": "code",
   "execution_count": 5,
   "id": "6aba00c1",
   "metadata": {},
   "outputs": [
    {
     "data": {
      "text/plain": [
       "(317, 16)"
      ]
     },
     "execution_count": 5,
     "metadata": {},
     "output_type": "execute_result"
    }
   ],
   "source": [
    "df.shape"
   ]
  },
  {
   "cell_type": "code",
   "execution_count": 6,
   "id": "4f320e4e",
   "metadata": {},
   "outputs": [
    {
     "data": {
      "text/html": [
       "<div>\n",
       "<style scoped>\n",
       "    .dataframe tbody tr th:only-of-type {\n",
       "        vertical-align: middle;\n",
       "    }\n",
       "\n",
       "    .dataframe tbody tr th {\n",
       "        vertical-align: top;\n",
       "    }\n",
       "\n",
       "    .dataframe thead th {\n",
       "        text-align: right;\n",
       "    }\n",
       "</style>\n",
       "<table border=\"1\" class=\"dataframe\">\n",
       "  <thead>\n",
       "    <tr style=\"text-align: right;\">\n",
       "      <th></th>\n",
       "      <th>Age</th>\n",
       "      <th>Protein1</th>\n",
       "      <th>Protein2</th>\n",
       "      <th>Protein3</th>\n",
       "      <th>Protein4</th>\n",
       "    </tr>\n",
       "  </thead>\n",
       "  <tbody>\n",
       "    <tr>\n",
       "      <th>count</th>\n",
       "      <td>317.000000</td>\n",
       "      <td>317.000000</td>\n",
       "      <td>317.000000</td>\n",
       "      <td>317.000000</td>\n",
       "      <td>317.000000</td>\n",
       "    </tr>\n",
       "    <tr>\n",
       "      <th>mean</th>\n",
       "      <td>58.725552</td>\n",
       "      <td>-0.027232</td>\n",
       "      <td>0.949557</td>\n",
       "      <td>-0.095104</td>\n",
       "      <td>0.006713</td>\n",
       "    </tr>\n",
       "    <tr>\n",
       "      <th>std</th>\n",
       "      <td>12.827374</td>\n",
       "      <td>0.543858</td>\n",
       "      <td>0.906153</td>\n",
       "      <td>0.589027</td>\n",
       "      <td>0.625965</td>\n",
       "    </tr>\n",
       "    <tr>\n",
       "      <th>min</th>\n",
       "      <td>29.000000</td>\n",
       "      <td>-2.144600</td>\n",
       "      <td>-0.978730</td>\n",
       "      <td>-1.627400</td>\n",
       "      <td>-2.025500</td>\n",
       "    </tr>\n",
       "    <tr>\n",
       "      <th>25%</th>\n",
       "      <td>49.000000</td>\n",
       "      <td>-0.350600</td>\n",
       "      <td>0.368840</td>\n",
       "      <td>-0.531360</td>\n",
       "      <td>-0.382240</td>\n",
       "    </tr>\n",
       "    <tr>\n",
       "      <th>50%</th>\n",
       "      <td>58.000000</td>\n",
       "      <td>0.005649</td>\n",
       "      <td>0.997130</td>\n",
       "      <td>-0.193040</td>\n",
       "      <td>0.038522</td>\n",
       "    </tr>\n",
       "    <tr>\n",
       "      <th>75%</th>\n",
       "      <td>67.000000</td>\n",
       "      <td>0.336260</td>\n",
       "      <td>1.612000</td>\n",
       "      <td>0.251210</td>\n",
       "      <td>0.436250</td>\n",
       "    </tr>\n",
       "    <tr>\n",
       "      <th>max</th>\n",
       "      <td>90.000000</td>\n",
       "      <td>1.593600</td>\n",
       "      <td>3.402200</td>\n",
       "      <td>2.193400</td>\n",
       "      <td>1.629900</td>\n",
       "    </tr>\n",
       "  </tbody>\n",
       "</table>\n",
       "</div>"
      ],
      "text/plain": [
       "              Age    Protein1    Protein2    Protein3    Protein4\n",
       "count  317.000000  317.000000  317.000000  317.000000  317.000000\n",
       "mean    58.725552   -0.027232    0.949557   -0.095104    0.006713\n",
       "std     12.827374    0.543858    0.906153    0.589027    0.625965\n",
       "min     29.000000   -2.144600   -0.978730   -1.627400   -2.025500\n",
       "25%     49.000000   -0.350600    0.368840   -0.531360   -0.382240\n",
       "50%     58.000000    0.005649    0.997130   -0.193040    0.038522\n",
       "75%     67.000000    0.336260    1.612000    0.251210    0.436250\n",
       "max     90.000000    1.593600    3.402200    2.193400    1.629900"
      ]
     },
     "execution_count": 6,
     "metadata": {},
     "output_type": "execute_result"
    }
   ],
   "source": [
    "df.describe()"
   ]
  },
  {
   "cell_type": "code",
   "execution_count": 7,
   "id": "4f37f579",
   "metadata": {},
   "outputs": [
    {
     "name": "stdout",
     "output_type": "stream",
     "text": [
      "The attributes of the dataset are:\n",
      "\n",
      "-- Patient_ID\n",
      "-- Age\n",
      "-- Gender\n",
      "-- Protein1\n",
      "-- Protein2\n",
      "-- Protein3\n",
      "-- Protein4\n",
      "-- Tumour_Stage\n",
      "-- Histology\n",
      "-- ER status\n",
      "-- PR status\n",
      "-- HER2 status\n",
      "-- Surgery_type\n",
      "-- Date_of_Surgery\n",
      "-- Date_of_Last_Visit\n",
      "-- Patient_Status\n"
     ]
    }
   ],
   "source": [
    "print('The attributes of the dataset are:\\n')\n",
    "for txt in df.columns:\n",
    "    print('--', txt)"
   ]
  },
  {
   "cell_type": "code",
   "execution_count": 10,
   "id": "de8fbe04",
   "metadata": {},
   "outputs": [],
   "source": [
    "#check male vs female patients\n",
    "gen = (\n",
    "    df\n",
    "    .groupby('Gender', as_index = False)\n",
    "    .agg(Total = ('Age', 'count'))\n",
    ")"
   ]
  },
  {
   "cell_type": "code",
   "execution_count": 11,
   "id": "7a7c1349",
   "metadata": {},
   "outputs": [],
   "source": [
    "gen['Percentage'] = (gen['Total']/gen['Total'].sum()) * 100"
   ]
  },
  {
   "cell_type": "code",
   "execution_count": 12,
   "id": "d96391e6",
   "metadata": {},
   "outputs": [
    {
     "data": {
      "text/html": [
       "<div>\n",
       "<style scoped>\n",
       "    .dataframe tbody tr th:only-of-type {\n",
       "        vertical-align: middle;\n",
       "    }\n",
       "\n",
       "    .dataframe tbody tr th {\n",
       "        vertical-align: top;\n",
       "    }\n",
       "\n",
       "    .dataframe thead th {\n",
       "        text-align: right;\n",
       "    }\n",
       "</style>\n",
       "<table border=\"1\" class=\"dataframe\">\n",
       "  <thead>\n",
       "    <tr style=\"text-align: right;\">\n",
       "      <th></th>\n",
       "      <th>Gender</th>\n",
       "      <th>Total</th>\n",
       "      <th>Percentage</th>\n",
       "    </tr>\n",
       "  </thead>\n",
       "  <tbody>\n",
       "    <tr>\n",
       "      <th>0</th>\n",
       "      <td>FEMALE</td>\n",
       "      <td>313</td>\n",
       "      <td>98.73817</td>\n",
       "    </tr>\n",
       "    <tr>\n",
       "      <th>1</th>\n",
       "      <td>MALE</td>\n",
       "      <td>4</td>\n",
       "      <td>1.26183</td>\n",
       "    </tr>\n",
       "  </tbody>\n",
       "</table>\n",
       "</div>"
      ],
      "text/plain": [
       "   Gender  Total  Percentage\n",
       "0  FEMALE    313    98.73817\n",
       "1    MALE      4     1.26183"
      ]
     },
     "execution_count": 12,
     "metadata": {},
     "output_type": "execute_result"
    }
   ],
   "source": [
    "gen"
   ]
  },
  {
   "cell_type": "code",
   "execution_count": 13,
   "id": "4bb00401",
   "metadata": {},
   "outputs": [
    {
     "data": {
      "image/png": "[encoded data removed]",
      "text/plain": [
       "<Figure size 360x504 with 1 Axes>"
      ]
     },
     "metadata": {
      "needs_background": "light"
     },
     "output_type": "display_data"
    }
   ],
   "source": [
    "#cases by gender\n",
    "\n",
    "plt.figure(figsize = (5,7))\n",
    "gen_bar = plt.bar(gen['Gender'], gen['Total'])\n",
    "plt.yticks(np.arange(0,400,50))\n",
    "plt.bar_label(gen_bar, labels = ['{} ({:.2f}%)'.format(t,p) for t,p in zip(gen['Total'],gen['Percentage'])], padding = 3)\n",
    "plt.xlabel('Gender')\n",
    "plt.ylabel('No. of cases')\n",
    "plt.title('No. of cases by gender')\n",
    "plt.show()"
   ]
  },
  {
   "cell_type": "code",
   "execution_count": 22,
   "id": "977fab2f",
   "metadata": {},
   "outputs": [
    {
     "data": {
      "image/png": "[encoded data removed]",
      "text/plain": [
       "<Figure size 576x360 with 1 Axes>"
      ]
     },
     "metadata": {
      "needs_background": "light"
     },
     "output_type": "display_data"
    }
   ],
   "source": [
    "#find Age distribution in dataset\n",
    "\n",
    "bins = list(range(20,105,5))\n",
    "\n",
    "plt.figure(figsize = (8,5))\n",
    "plt.hist(df['Age'].astype(int), width = 4, align = 'mid', bins = bins, color = 'red', edgecolor = 'black')\n",
    "plt.xticks(bins)\n",
    "plt.xlabel('Ages')\n",
    "plt.title('Age range in dataset')\n",
    "plt.yticks(np.arange(0,65,5))\n",
    "plt.show()"
   ]
  },
  {
   "cell_type": "code",
   "execution_count": 17,
   "id": "2acee104",
   "metadata": {},
   "outputs": [],
   "source": [
    "cancer_types_total = df.groupby('Histology', as_index = False)['Age'].count()"
   ]
  },
  {
   "cell_type": "code",
   "execution_count": 18,
   "id": "e78bd440",
   "metadata": {},
   "outputs": [],
   "source": [
    "cancer_types_total.rename(columns = {'Age': 'Total_Number'}, inplace = True)"
   ]
  },
  {
   "cell_type": "code",
   "execution_count": 19,
   "id": "c85b9fce",
   "metadata": {},
   "outputs": [],
   "source": [
    "# for scaling, we get the percentage of total cases for each type of case\n",
    "totals_of_dataset = []\n",
    "for hist, num in zip(cancer_types_total['Histology'], cancer_types_total['Total_Number']):\n",
    "    answer = (num/df.shape[0]) * 100\n",
    "    totals_of_dataset.append(answer)"
   ]
  },
  {
   "cell_type": "code",
   "execution_count": 20,
   "id": "ded05aae",
   "metadata": {},
   "outputs": [],
   "source": [
    "cancer_types_total['Percentage'] = totals_of_dataset"
   ]
  },
  {
   "cell_type": "code",
   "execution_count": 21,
   "id": "0ee04632",
   "metadata": {},
   "outputs": [
    {
     "data": {
      "text/html": [
       "<div>\n",
       "<style scoped>\n",
       "    .dataframe tbody tr th:only-of-type {\n",
       "        vertical-align: middle;\n",
       "    }\n",
       "\n",
       "    .dataframe tbody tr th {\n",
       "        vertical-align: top;\n",
       "    }\n",
       "\n",
       "    .dataframe thead th {\n",
       "        text-align: right;\n",
       "    }\n",
       "</style>\n",
       "<table border=\"1\" class=\"dataframe\">\n",
       "  <thead>\n",
       "    <tr style=\"text-align: right;\">\n",
       "      <th></th>\n",
       "      <th>Histology</th>\n",
       "      <th>Total_Number</th>\n",
       "      <th>Percentage</th>\n",
       "    </tr>\n",
       "  </thead>\n",
       "  <tbody>\n",
       "    <tr>\n",
       "      <th>0</th>\n",
       "      <td>Infiltrating Ductal Carcinoma</td>\n",
       "      <td>224</td>\n",
       "      <td>70.662461</td>\n",
       "    </tr>\n",
       "    <tr>\n",
       "      <th>1</th>\n",
       "      <td>Infiltrating Lobular Carcinoma</td>\n",
       "      <td>81</td>\n",
       "      <td>25.552050</td>\n",
       "    </tr>\n",
       "    <tr>\n",
       "      <th>2</th>\n",
       "      <td>Mucinous Carcinoma</td>\n",
       "      <td>12</td>\n",
       "      <td>3.785489</td>\n",
       "    </tr>\n",
       "  </tbody>\n",
       "</table>\n",
       "</div>"
      ],
      "text/plain": [
       "                        Histology  Total_Number  Percentage\n",
       "0   Infiltrating Ductal Carcinoma           224   70.662461\n",
       "1  Infiltrating Lobular Carcinoma            81   25.552050\n",
       "2              Mucinous Carcinoma            12    3.785489"
      ]
     },
     "execution_count": 21,
     "metadata": {},
     "output_type": "execute_result"
    }
   ],
   "source": [
    "cancer_types_total"
   ]
  },
  {
   "cell_type": "code",
   "execution_count": 23,
   "id": "073b5898",
   "metadata": {},
   "outputs": [],
   "source": [
    "# From the table above, we see that there are 224 cases of Infiltrating Ductal Carcinoma, 81 cases of Infiltrating Lobular Carcinoma and only 12 cases of mucinous carcinoma."
   ]
  },
  {
   "cell_type": "code",
   "execution_count": 24,
   "id": "150dee48",
   "metadata": {},
   "outputs": [
    {
     "data": {
      "image/png": "[encoded data removed]",
      "text/plain": [
       "<Figure size 432x288 with 1 Axes>"
      ]
     },
     "metadata": {
      "needs_background": "light"
     },
     "output_type": "display_data"
    }
   ],
   "source": [
    "totals_bar = plt.bar(cancer_types_total['Histology'],cancer_types_total['Percentage'])\n",
    "plt.xticks(rotation = 60)\n",
    "plt.yticks(np.arange(0,100,10))\n",
    "plt.xlabel('Type of cancer')\n",
    "plt.ylabel('Percentage of total patients')\n",
    "plt.title('Total cancer types in dataset by percentage')\n",
    "plt.bar_label(totals_bar, labels = ['{:.2f}%'.format(t) for t in totals_bar.datavalues], padding = 3)\n",
    "plt.show()"
   ]
  },
  {
   "cell_type": "code",
   "execution_count": 25,
   "id": "ce814928",
   "metadata": {},
   "outputs": [],
   "source": [
    "#stages of each cancer type\n",
    "#group the cancer types by histology and stage, and count them\n",
    "cancer_type_by_stage = (\n",
    "    df\n",
    "    .groupby(['Histology', 'Tumour_Stage'], as_index = False)\n",
    "    .agg(Total = ('Age', 'count'))\n",
    ")"
   ]
  },
  {
   "cell_type": "code",
   "execution_count": 26,
   "id": "bc2c44c1",
   "metadata": {},
   "outputs": [
    {
     "data": {
      "text/html": [
       "<div>\n",
       "<style scoped>\n",
       "    .dataframe tbody tr th:only-of-type {\n",
       "        vertical-align: middle;\n",
       "    }\n",
       "\n",
       "    .dataframe tbody tr th {\n",
       "        vertical-align: top;\n",
       "    }\n",
       "\n",
       "    .dataframe thead th {\n",
       "        text-align: right;\n",
       "    }\n",
       "</style>\n",
       "<table border=\"1\" class=\"dataframe\">\n",
       "  <thead>\n",
       "    <tr style=\"text-align: right;\">\n",
       "      <th></th>\n",
       "      <th>Histology</th>\n",
       "      <th>Tumour_Stage</th>\n",
       "      <th>Total</th>\n",
       "    </tr>\n",
       "  </thead>\n",
       "  <tbody>\n",
       "    <tr>\n",
       "      <th>0</th>\n",
       "      <td>Infiltrating Ductal Carcinoma</td>\n",
       "      <td>I</td>\n",
       "      <td>47</td>\n",
       "    </tr>\n",
       "    <tr>\n",
       "      <th>1</th>\n",
       "      <td>Infiltrating Ductal Carcinoma</td>\n",
       "      <td>II</td>\n",
       "      <td>120</td>\n",
       "    </tr>\n",
       "    <tr>\n",
       "      <th>2</th>\n",
       "      <td>Infiltrating Ductal Carcinoma</td>\n",
       "      <td>III</td>\n",
       "      <td>57</td>\n",
       "    </tr>\n",
       "    <tr>\n",
       "      <th>3</th>\n",
       "      <td>Infiltrating Lobular Carcinoma</td>\n",
       "      <td>I</td>\n",
       "      <td>10</td>\n",
       "    </tr>\n",
       "    <tr>\n",
       "      <th>4</th>\n",
       "      <td>Infiltrating Lobular Carcinoma</td>\n",
       "      <td>II</td>\n",
       "      <td>51</td>\n",
       "    </tr>\n",
       "    <tr>\n",
       "      <th>5</th>\n",
       "      <td>Infiltrating Lobular Carcinoma</td>\n",
       "      <td>III</td>\n",
       "      <td>20</td>\n",
       "    </tr>\n",
       "    <tr>\n",
       "      <th>6</th>\n",
       "      <td>Mucinous Carcinoma</td>\n",
       "      <td>I</td>\n",
       "      <td>3</td>\n",
       "    </tr>\n",
       "    <tr>\n",
       "      <th>7</th>\n",
       "      <td>Mucinous Carcinoma</td>\n",
       "      <td>II</td>\n",
       "      <td>9</td>\n",
       "    </tr>\n",
       "  </tbody>\n",
       "</table>\n",
       "</div>"
      ],
      "text/plain": [
       "                        Histology Tumour_Stage  Total\n",
       "0   Infiltrating Ductal Carcinoma            I     47\n",
       "1   Infiltrating Ductal Carcinoma           II    120\n",
       "2   Infiltrating Ductal Carcinoma          III     57\n",
       "3  Infiltrating Lobular Carcinoma            I     10\n",
       "4  Infiltrating Lobular Carcinoma           II     51\n",
       "5  Infiltrating Lobular Carcinoma          III     20\n",
       "6              Mucinous Carcinoma            I      3\n",
       "7              Mucinous Carcinoma           II      9"
      ]
     },
     "execution_count": 26,
     "metadata": {},
     "output_type": "execute_result"
    }
   ],
   "source": [
    "cancer_type_by_stage"
   ]
  },
  {
   "cell_type": "code",
   "execution_count": 29,
   "id": "9a8240ae",
   "metadata": {},
   "outputs": [
    {
     "data": {
      "image/png": "[encoded data removed]",
      "text/plain": [
       "<Figure size 864x576 with 1 Axes>"
      ]
     },
     "metadata": {
      "needs_background": "light"
     },
     "output_type": "display_data"
    }
   ],
   "source": [
    "labels = list(cancer_type_by_stage['Histology'].unique())\n",
    "x = np.arange(len(labels))\n",
    "width = 0.2\n",
    "\n",
    "# we create subplots, and set the size of the whole figure\n",
    "fig, ax = plt.subplots(figsize = (12, 8))\n",
    "\n",
    "# now we add the bar for each cancer type. Each plt describes each stage for one cancer type each.\n",
    "plt1 = ax.bar(x, cancer_type_by_stage.loc[cancer_type_by_stage['Tumour_Stage'] == 'I', 'Total'], width = width, label = 'Stage One')\n",
    "plt2 = ax.bar(x + width, cancer_type_by_stage.loc[cancer_type_by_stage['Tumour_Stage'] == 'II', 'Total'], width = width, label = 'Stage Two')\n",
    "plt3 = ax.bar(x + width*2, cancer_type_by_stage.loc[cancer_type_by_stage['Tumour_Stage'] == 'III', 'Total'], width = width, label = 'Stage Three')\n",
    "\n",
    "# we set where where the x values on the x-axis will be, and what their labels will be.\n",
    "ax.set_xticks(x)\n",
    "ax.set_xticklabels(labels)\n",
    "\n",
    "# we put the the height of each bar on top of the bar, with some padding for neatness.\n",
    "ax.bar_label(plt1, padding = 3)\n",
    "ax.bar_label(plt2, padding = 3)\n",
    "ax.bar_label(plt3, padding = 3)\n",
    "\n",
    "plt.xlabel('Type of cancer', fontdict = {'fontsize': 20})\n",
    "plt.ylabel('No. of cases for each stage', fontdict = {'fontsize': 20})\n",
    "plt.title('No. of cases for each stage by type of cancer')\n",
    "\n",
    "plt.legend(prop={'size': 20})\n",
    "plt.xticks(rotation = 60)\n",
    "\n",
    "\n",
    "plt.show()"
   ]
  },
  {
   "cell_type": "code",
   "execution_count": 37,
   "id": "4745a936",
   "metadata": {},
   "outputs": [],
   "source": [
    "#mortality rate \n",
    "#get the patient statuses and ages by age ranges, and put the subsets of data into a dictionary\n",
    "\n",
    "cancer_mort_raw = {}\n",
    "key = 0\n",
    "for i in range(len(bins)):\n",
    "    if i < len(bins) - 1:\n",
    "        row = df.loc[(df['Age'] >= bins[i]) & (df['Age'] < bins[i + 1])][['Patient_Status', 'Age']]\n",
    "        if row.empty is False:\n",
    "            cancer_mort_raw.update({'{} to {}'.format(bins[i], bins[i + 1]):row })\n",
    "            key += 1\n",
    "    else:\n",
    "        pass"
   ]
  },
  {
   "cell_type": "code",
   "execution_count": 38,
   "id": "4eaa7872",
   "metadata": {},
   "outputs": [],
   "source": [
    "#clean and rejoin subsets into dataframe \n",
    "cancer_mort_list = []\n",
    "\n",
    "for key, val in cancer_mort_raw.items():\n",
    "    age_range = key\n",
    "    status_df = val.groupby('Patient_Status', as_index = False).count()\n",
    "    status_vals = {}\n",
    "    \n",
    "    for ps, a in zip(status_df['Patient_Status'], status_df['Age']):\n",
    "        status_vals.update({'Age_range': age_range, ps: a})\n",
    "        \n",
    "    cancer_mort_list.append(status_vals)"
   ]
  },
  {
   "cell_type": "code",
   "execution_count": 39,
   "id": "d5bb9693",
   "metadata": {},
   "outputs": [],
   "source": [
    "cancer_mort = pd.DataFrame(cancer_mort_list)\n",
    "cancer_mort.fillna(0, inplace = True)"
   ]
  },
  {
   "cell_type": "code",
   "execution_count": 40,
   "id": "60bfbd52",
   "metadata": {},
   "outputs": [
    {
     "data": {
      "text/html": [
       "<div>\n",
       "<style scoped>\n",
       "    .dataframe tbody tr th:only-of-type {\n",
       "        vertical-align: middle;\n",
       "    }\n",
       "\n",
       "    .dataframe tbody tr th {\n",
       "        vertical-align: top;\n",
       "    }\n",
       "\n",
       "    .dataframe thead th {\n",
       "        text-align: right;\n",
       "    }\n",
       "</style>\n",
       "<table border=\"1\" class=\"dataframe\">\n",
       "  <thead>\n",
       "    <tr style=\"text-align: right;\">\n",
       "      <th></th>\n",
       "      <th>Age_range</th>\n",
       "      <th>Alive</th>\n",
       "      <th>Dead</th>\n",
       "    </tr>\n",
       "  </thead>\n",
       "  <tbody>\n",
       "    <tr>\n",
       "      <th>0</th>\n",
       "      <td>25 to 30</td>\n",
       "      <td>1.0</td>\n",
       "      <td>1.0</td>\n",
       "    </tr>\n",
       "    <tr>\n",
       "      <th>1</th>\n",
       "      <td>30 to 35</td>\n",
       "      <td>0.0</td>\n",
       "      <td>1.0</td>\n",
       "    </tr>\n",
       "    <tr>\n",
       "      <th>2</th>\n",
       "      <td>35 to 40</td>\n",
       "      <td>11.0</td>\n",
       "      <td>1.0</td>\n",
       "    </tr>\n",
       "    <tr>\n",
       "      <th>3</th>\n",
       "      <td>40 to 45</td>\n",
       "      <td>20.0</td>\n",
       "      <td>3.0</td>\n",
       "    </tr>\n",
       "    <tr>\n",
       "      <th>4</th>\n",
       "      <td>45 to 50</td>\n",
       "      <td>33.0</td>\n",
       "      <td>11.0</td>\n",
       "    </tr>\n",
       "  </tbody>\n",
       "</table>\n",
       "</div>"
      ],
      "text/plain": [
       "  Age_range  Alive  Dead\n",
       "0  25 to 30    1.0   1.0\n",
       "1  30 to 35    0.0   1.0\n",
       "2  35 to 40   11.0   1.0\n",
       "3  40 to 45   20.0   3.0\n",
       "4  45 to 50   33.0  11.0"
      ]
     },
     "execution_count": 40,
     "metadata": {},
     "output_type": "execute_result"
    }
   ],
   "source": [
    "cancer_mort.head()\n"
   ]
  },
  {
   "cell_type": "code",
   "execution_count": 41,
   "id": "60a4acbd",
   "metadata": {},
   "outputs": [
    {
     "data": {
      "image/png": "[encoded data removed]",
      "text/plain": [
       "<Figure size 720x432 with 1 Axes>"
      ]
     },
     "metadata": {
      "needs_background": "light"
     },
     "output_type": "display_data"
    }
   ],
   "source": [
    "fig = plt.figure(figsize = (10,6))\n",
    "\n",
    "age_range = list(cancer_mort['Age_range'])\n",
    "x = np.arange(len(age_range))\n",
    "width = 0.4\n",
    "\n",
    "plt.bar(x, cancer_mort['Alive'], width = width, label = 'Alive')\n",
    "plt.bar(x + width, cancer_mort['Dead'], width = width, label = 'Dead')\n",
    "plt.xticks(x, rotation = 60, labels = age_range)\n",
    "plt.yticks(np.arange(0, 55, 5))\n",
    "plt.title('Number of dead vs live patients by age range')\n",
    "plt.xlabel('Age range')\n",
    "plt.ylabel('Number of deaths')\n",
    "\n",
    "plt.legend()\n",
    "plt.show()"
   ]
  },
  {
   "cell_type": "code",
   "execution_count": 42,
   "id": "33ea8c39",
   "metadata": {},
   "outputs": [],
   "source": [
    "#mortality rate by cancer type\n",
    "cancer_types = (\n",
    "    df\n",
    "    .groupby(['Histology', 'Patient_Status'], as_index = False)\n",
    "    .agg(Total = ('Age', 'count'))\n",
    ")"
   ]
  },
  {
   "cell_type": "code",
   "execution_count": 43,
   "id": "88ee2919",
   "metadata": {},
   "outputs": [
    {
     "data": {
      "text/html": [
       "<div>\n",
       "<style scoped>\n",
       "    .dataframe tbody tr th:only-of-type {\n",
       "        vertical-align: middle;\n",
       "    }\n",
       "\n",
       "    .dataframe tbody tr th {\n",
       "        vertical-align: top;\n",
       "    }\n",
       "\n",
       "    .dataframe thead th {\n",
       "        text-align: right;\n",
       "    }\n",
       "</style>\n",
       "<table border=\"1\" class=\"dataframe\">\n",
       "  <thead>\n",
       "    <tr style=\"text-align: right;\">\n",
       "      <th></th>\n",
       "      <th>Histology</th>\n",
       "      <th>Patient_Status</th>\n",
       "      <th>Total</th>\n",
       "    </tr>\n",
       "  </thead>\n",
       "  <tbody>\n",
       "    <tr>\n",
       "      <th>0</th>\n",
       "      <td>Infiltrating Ductal Carcinoma</td>\n",
       "      <td>Alive</td>\n",
       "      <td>179</td>\n",
       "    </tr>\n",
       "    <tr>\n",
       "      <th>1</th>\n",
       "      <td>Infiltrating Ductal Carcinoma</td>\n",
       "      <td>Dead</td>\n",
       "      <td>45</td>\n",
       "    </tr>\n",
       "    <tr>\n",
       "      <th>2</th>\n",
       "      <td>Infiltrating Lobular Carcinoma</td>\n",
       "      <td>Alive</td>\n",
       "      <td>67</td>\n",
       "    </tr>\n",
       "    <tr>\n",
       "      <th>3</th>\n",
       "      <td>Infiltrating Lobular Carcinoma</td>\n",
       "      <td>Dead</td>\n",
       "      <td>14</td>\n",
       "    </tr>\n",
       "    <tr>\n",
       "      <th>4</th>\n",
       "      <td>Mucinous Carcinoma</td>\n",
       "      <td>Alive</td>\n",
       "      <td>9</td>\n",
       "    </tr>\n",
       "    <tr>\n",
       "      <th>5</th>\n",
       "      <td>Mucinous Carcinoma</td>\n",
       "      <td>Dead</td>\n",
       "      <td>3</td>\n",
       "    </tr>\n",
       "  </tbody>\n",
       "</table>\n",
       "</div>"
      ],
      "text/plain": [
       "                        Histology Patient_Status  Total\n",
       "0   Infiltrating Ductal Carcinoma          Alive    179\n",
       "1   Infiltrating Ductal Carcinoma           Dead     45\n",
       "2  Infiltrating Lobular Carcinoma          Alive     67\n",
       "3  Infiltrating Lobular Carcinoma           Dead     14\n",
       "4              Mucinous Carcinoma          Alive      9\n",
       "5              Mucinous Carcinoma           Dead      3"
      ]
     },
     "execution_count": 43,
     "metadata": {},
     "output_type": "execute_result"
    }
   ],
   "source": [
    "cancer_types"
   ]
  },
  {
   "cell_type": "code",
   "execution_count": 44,
   "id": "ce3bbb55",
   "metadata": {},
   "outputs": [],
   "source": [
    "total_lesions = cancer_types_total['Total_Number'].sum()\n",
    "\n",
    "ratios_by_type = []\n",
    "ratios_by_total = []\n",
    "for hist, pat_total in zip(cancer_types_total['Histology'], cancer_types_total['Total_Number']):\n",
    "    results = cancer_types.loc[cancer_types['Histology'] == hist]\n",
    "    \n",
    "    for result in results['Total']:\n",
    "        ratio_by_type = (result/pat_total)*100\n",
    "        ratios_by_type.append(ratio_by_type)\n",
    "        \n",
    "        ratio_by_total = (result/total_lesions)*100\n",
    "        ratios_by_total.append(ratio_by_total)"
   ]
  },
  {
   "cell_type": "code",
   "execution_count": 45,
   "id": "811a9f97",
   "metadata": {},
   "outputs": [],
   "source": [
    "cancer_types['Ratio by cancer type (%)'] = ratios_by_type\n",
    "cancer_types['Ratio by total (%)'] = ratios_by_total"
   ]
  },
  {
   "cell_type": "code",
   "execution_count": 46,
   "id": "d589ff4e",
   "metadata": {},
   "outputs": [
    {
     "data": {
      "text/html": [
       "<div>\n",
       "<style scoped>\n",
       "    .dataframe tbody tr th:only-of-type {\n",
       "        vertical-align: middle;\n",
       "    }\n",
       "\n",
       "    .dataframe tbody tr th {\n",
       "        vertical-align: top;\n",
       "    }\n",
       "\n",
       "    .dataframe thead th {\n",
       "        text-align: right;\n",
       "    }\n",
       "</style>\n",
       "<table border=\"1\" class=\"dataframe\">\n",
       "  <thead>\n",
       "    <tr style=\"text-align: right;\">\n",
       "      <th></th>\n",
       "      <th>Histology</th>\n",
       "      <th>Patient_Status</th>\n",
       "      <th>Total</th>\n",
       "      <th>Ratio by cancer type (%)</th>\n",
       "      <th>Ratio by total (%)</th>\n",
       "    </tr>\n",
       "  </thead>\n",
       "  <tbody>\n",
       "    <tr>\n",
       "      <th>0</th>\n",
       "      <td>Infiltrating Ductal Carcinoma</td>\n",
       "      <td>Alive</td>\n",
       "      <td>179</td>\n",
       "      <td>79.910714</td>\n",
       "      <td>56.466877</td>\n",
       "    </tr>\n",
       "    <tr>\n",
       "      <th>1</th>\n",
       "      <td>Infiltrating Ductal Carcinoma</td>\n",
       "      <td>Dead</td>\n",
       "      <td>45</td>\n",
       "      <td>20.089286</td>\n",
       "      <td>14.195584</td>\n",
       "    </tr>\n",
       "    <tr>\n",
       "      <th>2</th>\n",
       "      <td>Infiltrating Lobular Carcinoma</td>\n",
       "      <td>Alive</td>\n",
       "      <td>67</td>\n",
       "      <td>82.716049</td>\n",
       "      <td>21.135647</td>\n",
       "    </tr>\n",
       "    <tr>\n",
       "      <th>3</th>\n",
       "      <td>Infiltrating Lobular Carcinoma</td>\n",
       "      <td>Dead</td>\n",
       "      <td>14</td>\n",
       "      <td>17.283951</td>\n",
       "      <td>4.416404</td>\n",
       "    </tr>\n",
       "    <tr>\n",
       "      <th>4</th>\n",
       "      <td>Mucinous Carcinoma</td>\n",
       "      <td>Alive</td>\n",
       "      <td>9</td>\n",
       "      <td>75.000000</td>\n",
       "      <td>2.839117</td>\n",
       "    </tr>\n",
       "    <tr>\n",
       "      <th>5</th>\n",
       "      <td>Mucinous Carcinoma</td>\n",
       "      <td>Dead</td>\n",
       "      <td>3</td>\n",
       "      <td>25.000000</td>\n",
       "      <td>0.946372</td>\n",
       "    </tr>\n",
       "  </tbody>\n",
       "</table>\n",
       "</div>"
      ],
      "text/plain": [
       "                        Histology Patient_Status  Total  \\\n",
       "0   Infiltrating Ductal Carcinoma          Alive    179   \n",
       "1   Infiltrating Ductal Carcinoma           Dead     45   \n",
       "2  Infiltrating Lobular Carcinoma          Alive     67   \n",
       "3  Infiltrating Lobular Carcinoma           Dead     14   \n",
       "4              Mucinous Carcinoma          Alive      9   \n",
       "5              Mucinous Carcinoma           Dead      3   \n",
       "\n",
       "   Ratio by cancer type (%)  Ratio by total (%)  \n",
       "0                 79.910714           56.466877  \n",
       "1                 20.089286           14.195584  \n",
       "2                 82.716049           21.135647  \n",
       "3                 17.283951            4.416404  \n",
       "4                 75.000000            2.839117  \n",
       "5                 25.000000            0.946372  "
      ]
     },
     "execution_count": 46,
     "metadata": {},
     "output_type": "execute_result"
    }
   ],
   "source": [
    "cancer_types"
   ]
  },
  {
   "cell_type": "code",
   "execution_count": 48,
   "id": "92a883f2",
   "metadata": {},
   "outputs": [],
   "source": [
    "cancer_types_alive = cancer_types.loc[cancer_types['Patient_Status'] == 'Alive'].copy()\n",
    "cancer_types_dead = cancer_types.loc[cancer_types['Patient_Status'] == 'Dead'].copy()"
   ]
  },
  {
   "cell_type": "code",
   "execution_count": 49,
   "id": "05bef5cd",
   "metadata": {},
   "outputs": [],
   "source": [
    "cancer_types_alive.reset_index(inplace = True)\n",
    "cancer_types_alive.drop('index', axis = 1, inplace = True)\n",
    "\n",
    "cancer_types_dead.reset_index(inplace = True)\n",
    "cancer_types_dead.drop('index', axis = 1, inplace = True)"
   ]
  },
  {
   "cell_type": "code",
   "execution_count": 50,
   "id": "43277588",
   "metadata": {},
   "outputs": [
    {
     "data": {
      "image/png": "[encoded data removed]",
      "text/plain": [
       "<Figure size 432x288 with 1 Axes>"
      ]
     },
     "metadata": {
      "needs_background": "light"
     },
     "output_type": "display_data"
    }
   ],
   "source": [
    "plt.bar(cancer_types_alive['Histology'], cancer_types_alive['Total'], label = 'Patients alive')\n",
    "plt.bar(cancer_types_dead['Histology'], cancer_types_dead['Total'], bottom = cancer_types_alive['Total'], label = 'Patients deceased')\n",
    "\n",
    "plt.xticks(rotation = 60)\n",
    "plt.yticks(np.arange(0, 250, 20))\n",
    "plt.ylabel('No. of cases', fontdict={'fontsize': 13})\n",
    "plt.xlabel('Type of cancer', fontdict={'fontsize': 15})\n",
    "plt.title('Mortality rate by cancer type', fontdict={'fontsize': 20})\n",
    "plt.legend()\n",
    "\n",
    "plt.show()"
   ]
  },
  {
   "cell_type": "code",
   "execution_count": 51,
   "id": "235103e3",
   "metadata": {},
   "outputs": [
    {
     "data": {
      "image/png": "[encoded data removed]",
      "text/plain": [
       "<Figure size 576x360 with 1 Axes>"
      ]
     },
     "metadata": {
      "needs_background": "light"
     },
     "output_type": "display_data"
    }
   ],
   "source": [
    "plt.figure(figsize = (8, 5))\n",
    "counter = 0\n",
    "\n",
    "plt.bar(cancer_types_alive['Histology'], cancer_types_alive['Ratio by cancer type (%)'], label = 'Patients alive')\n",
    "\n",
    "for ind, value in zip(cancer_types_alive.index, cancer_types_alive['Ratio by cancer type (%)']):\n",
    "    plt.text(ind, 40, '{:.2f}%'.format(value), horizontalalignment='center', fontdict={'fontsize': 15, 'color':'white'})\n",
    "\n",
    "plt.bar(cancer_types_dead['Histology'], cancer_types_dead['Ratio by cancer type (%)'], bottom = cancer_types_alive['Ratio by cancer type (%)'], label = 'Patients deceased')\n",
    "\n",
    "for ind, value in zip(cancer_types_dead.index, cancer_types_dead['Ratio by cancer type (%)']):\n",
    "    plt.text(ind, 85, '{:.2f}%'.format(value), horizontalalignment='center', fontdict={'fontsize': 15, 'color':'white'})\n",
    "\n",
    "plt.xticks(rotation = 60)\n",
    "plt.yticks(np.arange(0, 150, 20))\n",
    "plt.ylabel('No. of cases', fontdict={'fontsize': 13})\n",
    "plt.xlabel('Type of cancer', fontdict={'fontsize': 15})\n",
    "plt.title('Adjusted mortality rate by cancer type', fontdict={'fontsize': 20})\n",
    "\n",
    "\n",
    "plt.legend(prop = {'size': 15})\n",
    "\n",
    "plt.show()"
   ]
  },
  {
   "cell_type": "code",
   "execution_count": 52,
   "id": "fcc02e3e",
   "metadata": {},
   "outputs": [],
   "source": [
    "#The adjusted mortality shows us that each cancer has roughly the same mortality rate - around 20%."
   ]
  },
  {
   "cell_type": "code",
   "execution_count": null,
   "id": "c7efa688",
   "metadata": {},
   "outputs": [],
   "source": []
  }
 ],
 "metadata": {
  "kernelspec": {
   "display_name": "Python 3 (ipykernel)",
   "language": "python",
   "name": "python3"
  },
  "language_info": {
   "codemirror_mode": {
    "name": "ipython",
    "version": 3
   },
   "file_extension": ".py",
   "mimetype": "text/x-python",
   "name": "python",
   "nbconvert_exporter": "python",
   "pygments_lexer": "ipython3",
   "version": "3.7.11"
  }
 },
 "nbformat": 4,
 "nbformat_minor": 5
}
