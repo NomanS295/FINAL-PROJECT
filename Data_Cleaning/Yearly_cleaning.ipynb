{
 "cells": [
  {
   "cell_type": "code",
   "execution_count": 28,
   "id": "60b75ec1",
   "metadata": {},
   "outputs": [],
   "source": [
    "# Dependencies and Setup\n",
    "import pandas as pd"
   ]
  },
  {
   "cell_type": "code",
   "execution_count": 32,
   "id": "952e65dc",
   "metadata": {},
   "outputs": [],
   "source": [
    "#Creating function based on Clean_2 files\n",
    "def clean_nba(file_import, game_cutoff = 43):\n",
    "    print(f'~~~~~~~~~~~~~~~~~~~~~~~~~~~~~~~~~~~~~~~~~~~~~~~~~~~~')    \n",
    "    print(f'Importing {file_import}...')\n",
    "    print(f'~~~~~~~~~~~~~~~~~~~~~~~~~~~~~~~~~~~~~~~~~~~~~~~~~~~~')\n",
    "    \n",
    "    #Open CSV\n",
    "    db = pd.read_csv(f'../ResourcesFull/{file_import}.csv', encoding = \"ISO-8859-1\")\n",
    "    \n",
    "    #Extract Player ID\n",
    "    db[[\"Player\",\"Player_ID\"]] = db['Player'].str.split(\"\\\\\", 1, expand=True)\n",
    "    \n",
    "    #Cutoff Low games and traded players' second team\n",
    "    db = db[db[\"G\"] > game_cutoff]\n",
    "    \n",
    "    #Remove TOT team entries (for Total)\n",
    "    db_filtered = db[db.Tm != \"TOT\"]\n",
    "    print(f'There are {db_filtered[\"Player_ID\"].duplicated().sum()} duplicated players to check')\n",
    "    \n",
    "    #player_names checks (now less vital with ids)\n",
    "    player_names = db_filtered[\"Player\"]\n",
    "    character_issues = player_names[player_names.str.contains(\"[^\\w'\\-\\.\\* ]\", regex=True)]\n",
    "    print(f'These names may need manual correcting:\\n{character_issues}')\n",
    "          \n",
    "    #Allstar Name corrections\n",
    "    corrected_names = []\n",
    "    for player in player_names:\n",
    "        if player.find(\"*\") != (-1):\n",
    "            player = player.replace(\"*\",\"\")\n",
    "        elif player == \"Ömer A??k\":\n",
    "            player = player.replace(\"A??k\",\"Asik\")\n",
    "        corrected_names.append(player)\n",
    "    db_filtered[\"Player\"] = corrected_names\n",
    "    \n",
    "    #checking any missing point data\n",
    "    print(f'The only missing data should be 3P shots:\\n{db_filtered.isna().sum()}')\n",
    "    \n",
    "    #fill NA 3-pointers with zeroes (all cases have been from 0 3P shots attempted)\n",
    "    db_filtered[\"3P%\"] = db_filtered[\"3P%\"].fillna(0)\n",
    "          \n",
    "    #moving year to front\n",
    "    move_col = db_filtered.pop('YR')\n",
    "    db_filtered.insert(1, 'YR', move_col)\n",
    "          \n",
    "    #moving id to front\n",
    "    move_col = db_filtered.pop('Player_ID')\n",
    "    db_filtered.insert(1, 'Player_ID', move_col)\n",
    "    \n",
    "    #creating cleaned csv\n",
    "    db_filtered.to_csv(f'Test_Output/{file_import}_clean.csv', encoding = \"ISO-8859-1\")\n",
    "    character_issues.to_csv(f'Test_Output/{file_import}_brokennames.csv', encoding = \"ISO-8859-1\")\n",
    "    print(f'~~~~~~~~~~~~~~~~~~~~~~~~~~~~~~~~~~~~~~~~~~~~~~~~~~~~')\n",
    "    print(f'Cleaning Complete')\n",
    "    print(f'~~~~~~~~~~~~~~~~~~~~~~~~~~~~~~~~~~~~~~~~~~~~~~~~~~~~')"
   ]
  },
  {
   "cell_type": "code",
   "execution_count": 33,
   "id": "59df1842",
   "metadata": {
    "scrolled": true
   },
   "outputs": [
    {
     "name": "stdout",
     "output_type": "stream",
     "text": [
      "~~~~~~~~~~~~~~~~~~~~~~~~~~~~~~~~~~~~~~~~~~~~~~~~~~~~\n",
      "Importing stats2008...\n",
      "~~~~~~~~~~~~~~~~~~~~~~~~~~~~~~~~~~~~~~~~~~~~~~~~~~~~\n",
      "There are 0 duplicated players to check\n",
      "These names may need manual correcting:\n",
      "53         Andris Biedri?\n",
      "160           Goran Dragi?\n",
      "277            Marko Jari?\n",
      "307           Nenad Krsti?\n",
      "358          Darko Mili?i?\n",
      "386       Rasho Nesterovi?\n",
      "414         Sasha Pavlovi?\n",
      "432    Vladimir Radmanovi?\n",
      "505        Peja Stojakovi?\n",
      "529          Hedo Türko?lu\n",
      "532              Roko Uki?\n",
      "537          Sasha Vuja?i?\n",
      "Name: Player, dtype: object\n",
      "The only missing data should be 3P shots:\n",
      "Rk            0\n",
      "Player        0\n",
      "Pos           0\n",
      "Age           0\n",
      "Tm            0\n",
      "G             0\n",
      "GS            0\n",
      "MP            0\n",
      "FG            0\n",
      "FGA           0\n",
      "FG%           0\n",
      "3P            0\n",
      "3PA           0\n",
      "3P%          24\n",
      "2P            0\n",
      "2PA           0\n",
      "2P%           0\n",
      "eFG%          0\n",
      "FT            0\n",
      "FTA           0\n",
      "FT%           0\n",
      "ORB           0\n",
      "DRB           0\n",
      "TRB           0\n",
      "AST           0\n",
      "STL           0\n",
      "BLK           0\n",
      "TOV           0\n",
      "PF            0\n",
      "PTS           0\n",
      "YR            0\n",
      "GMSCR         0\n",
      "Player_ID     0\n",
      "dtype: int64\n",
      "~~~~~~~~~~~~~~~~~~~~~~~~~~~~~~~~~~~~~~~~~~~~~~~~~~~~\n",
      "Cleaning Complete\n",
      "~~~~~~~~~~~~~~~~~~~~~~~~~~~~~~~~~~~~~~~~~~~~~~~~~~~~\n"
     ]
    },
    {
     "name": "stderr",
     "output_type": "stream",
     "text": [
      "C:\\Users\\ricky\\anaconda3\\envs\\mlenv\\lib\\site-packages\\ipykernel_launcher.py:33: SettingWithCopyWarning: \n",
      "A value is trying to be set on a copy of a slice from a DataFrame.\n",
      "Try using .loc[row_indexer,col_indexer] = value instead\n",
      "\n",
      "See the caveats in the documentation: https://pandas.pydata.org/pandas-docs/stable/user_guide/indexing.html#returning-a-view-versus-a-copy\n",
      "C:\\Users\\ricky\\anaconda3\\envs\\mlenv\\lib\\site-packages\\ipykernel_launcher.py:39: SettingWithCopyWarning: \n",
      "A value is trying to be set on a copy of a slice from a DataFrame.\n",
      "Try using .loc[row_indexer,col_indexer] = value instead\n",
      "\n",
      "See the caveats in the documentation: https://pandas.pydata.org/pandas-docs/stable/user_guide/indexing.html#returning-a-view-versus-a-copy\n"
     ]
    }
   ],
   "source": [
    "clean_nba('stats2008')"
   ]
  },
  {
   "cell_type": "code",
   "execution_count": null,
   "id": "3fb0bcb2",
   "metadata": {},
   "outputs": [],
   "source": []
  }
 ],
 "metadata": {
  "kernelspec": {
   "display_name": "mlenv",
   "language": "python",
   "name": "mlenv"
  },
  "language_info": {
   "codemirror_mode": {
    "name": "ipython",
    "version": 3
   },
   "file_extension": ".py",
   "mimetype": "text/x-python",
   "name": "python",
   "nbconvert_exporter": "python",
   "pygments_lexer": "ipython3",
   "version": "3.7.11"
  }
 },
 "nbformat": 4,
 "nbformat_minor": 5
}
